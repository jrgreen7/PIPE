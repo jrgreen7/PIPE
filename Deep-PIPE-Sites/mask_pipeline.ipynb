{
 "cells": [
  {
   "cell_type": "code",
   "execution_count": 1,
   "metadata": {},
   "outputs": [],
   "source": [
    "import pandas as pd\n",
    "import numpy as np\n",
    "import matplotlib.pyplot as plt\n",
    "import seaborn as sns\n",
    "import re"
   ]
  },
  {
   "cell_type": "code",
   "execution_count": 2,
   "metadata": {},
   "outputs": [],
   "source": [
    "pfam_file = 'data/pfam_yeast_domains.tsv' # http://pfam.xfam.org/proteome/559292#tabview=tab2\n",
    "biogrid_file = \"data/BIOGRID-ORGANISM-Saccharomyces_cerevisiae_S288c-4.2.191.tab3.txt\"\n",
    "threedid_file = \"data/3did_flat_Apr_10_2020.dat\" # from https://3did.irbbarcelona.org/download.php\n",
    "uniprot_file = \"data/uniprot-proteome UP000002311.tab\"# reference proteome at https://www.uniprot.org/proteomes/UP000002311\n",
    "# general proteome (reviewed S. cerevisiae) at https://www.uniprot.org/uniprot/?query=taxonomy:%22Saccharomyces%20cerevisiae%20(strain%20ATCC%20204508%20/%20S288c)%20(Baker%27s%20yeast)%20[559292]%22&fil=organism%3A%22Saccharomyces+cerevisiae+%28strain+ATCC+204508+%2F+S288c%29+%28Baker%27s+yeast%29+%5B559292%5D%22+AND+reviewed%3Ayes\n",
    "split_homologous = True\n",
    "pfam_domains_only = True\n",
    "single_domain_only = True\n",
    "max_interaction_area = 0.5\n",
    "\n",
    "save_file_path = \"data/yeast_masks_singlesite_domains_only.pkl\""
   ]
  },
  {
   "cell_type": "markdown",
   "metadata": {},
   "source": [
    "# Import PFAM data"
   ]
  },
  {
   "cell_type": "code",
   "execution_count": 3,
   "metadata": {},
   "outputs": [
    {
     "name": "stdout",
     "output_type": "stream",
     "text": [
      "Pfam data loaded: Shape: (7907, 14), Unique proteins: 4930\n"
     ]
    }
   ],
   "source": [
    "# load in header row as single string # names are between angle brackets\n",
    "pfam_header = re.findall(r'<(.*?)>', pd.read_csv(pfam_file, sep='\\n', header=2).columns[0]);\n",
    "pfam = pd.read_csv(pfam_file, sep='\\t', names=pfam_header);\n",
    "pfam = pfam.drop(range(3)).reset_index(drop=True)\n",
    "print(f\"Pfam data loaded: Shape: {pfam.shape}, Unique proteins: {pfam['seq id'].unique().size}\")"
   ]
  },
  {
   "cell_type": "markdown",
   "metadata": {},
   "source": [
    "We are choosing to drop all types that are not explicitly domain"
   ]
  },
  {
   "cell_type": "code",
   "execution_count": 4,
   "metadata": {},
   "outputs": [
    {
     "name": "stdout",
     "output_type": "stream",
     "text": [
      "Pfam subsequence types: ['Domain' 'Family' 'Coiled-coil' 'Repeat' 'Motif' 'Disordered']\n",
      "Dropping pfam entries that are not domains\n",
      "Pfam data after dropping: Shape: (3878, 14), Unique proteins: 2599\n"
     ]
    }
   ],
   "source": [
    "print(f\"Pfam subsequence types: {pfam['type'].unique()}\")\n",
    "if pfam_domains_only:\n",
    "    print('Dropping pfam entries that are not domains')\n",
    "    pfam = pfam[pfam['type'] == 'Domain'].sort_values('seq id')\n",
    "    pfam.reset_index(drop=True, inplace=True)\n",
    "    print(f\"Pfam data after dropping: Shape: {pfam.shape}, Unique proteins: {pfam['seq id'].unique().size}\")\n",
    "else:\n",
    "    print(\"Keep all types\")"
   ]
  },
  {
   "cell_type": "code",
   "execution_count": 5,
   "metadata": {},
   "outputs": [],
   "source": [
    "# convert indices to int\n",
    "pfam['envelope start'] = pfam['envelope start'].round(0).astype(np.int)\n",
    "pfam['envelope end'] = pfam['envelope end'].round(0).astype(np.int)"
   ]
  },
  {
   "cell_type": "markdown",
   "metadata": {},
   "source": [
    "### Create map of sequence IDs and their indices"
   ]
  },
  {
   "cell_type": "code",
   "execution_count": 6,
   "metadata": {},
   "outputs": [
    {
     "name": "stdout",
     "output_type": "stream",
     "text": [
      "Creating map of sequence IDs and their indices in PFAM\n"
     ]
    }
   ],
   "source": [
    "print(\"Creating map of sequence IDs and their indices in PFAM\")\n",
    "pfam_indices = dict.fromkeys(pfam['seq id'].unique())"
   ]
  },
  {
   "cell_type": "markdown",
   "metadata": {},
   "source": [
    "Find all locations in PFAM dataframe where index occurs and add it to map"
   ]
  },
  {
   "cell_type": "code",
   "execution_count": 7,
   "metadata": {},
   "outputs": [],
   "source": [
    "for key in pfam_indices:\n",
    "    pfam_indices[key] = pfam['seq id'][pfam['seq id'] == key].index"
   ]
  },
  {
   "cell_type": "code",
   "execution_count": 8,
   "metadata": {},
   "outputs": [
    {
     "data": {
      "text/html": [
       "<div>\n",
       "<style scoped>\n",
       "    .dataframe tbody tr th:only-of-type {\n",
       "        vertical-align: middle;\n",
       "    }\n",
       "\n",
       "    .dataframe tbody tr th {\n",
       "        vertical-align: top;\n",
       "    }\n",
       "\n",
       "    .dataframe thead th {\n",
       "        text-align: right;\n",
       "    }\n",
       "</style>\n",
       "<table border=\"1\" class=\"dataframe\">\n",
       "  <thead>\n",
       "    <tr style=\"text-align: right;\">\n",
       "      <th></th>\n",
       "      <th>seq id</th>\n",
       "      <th>alignment start</th>\n",
       "      <th>alignment end</th>\n",
       "      <th>envelope start</th>\n",
       "      <th>envelope end</th>\n",
       "      <th>hmm acc</th>\n",
       "      <th>hmm name</th>\n",
       "      <th>type</th>\n",
       "      <th>hmm start</th>\n",
       "      <th>hmm end</th>\n",
       "      <th>hmm length</th>\n",
       "      <th>bit score</th>\n",
       "      <th>E-value</th>\n",
       "      <th>clan</th>\n",
       "    </tr>\n",
       "  </thead>\n",
       "  <tbody>\n",
       "    <tr>\n",
       "      <th>0</th>\n",
       "      <td>A0A0B7P3V8</td>\n",
       "      <td>621.0</td>\n",
       "      <td>721.0</td>\n",
       "      <td>620</td>\n",
       "      <td>724</td>\n",
       "      <td>PF00665</td>\n",
       "      <td>rve</td>\n",
       "      <td>Domain</td>\n",
       "      <td>2.0</td>\n",
       "      <td>99.0</td>\n",
       "      <td>102.0</td>\n",
       "      <td>52.0</td>\n",
       "      <td>1.800000e-10</td>\n",
       "      <td>CL0219</td>\n",
       "    </tr>\n",
       "  </tbody>\n",
       "</table>\n",
       "</div>"
      ],
      "text/plain": [
       "       seq id  alignment start  alignment end  envelope start  envelope end  \\\n",
       "0  A0A0B7P3V8            621.0          721.0             620           724   \n",
       "\n",
       "   hmm acc hmm name    type  hmm start  hmm end  hmm length  bit score  \\\n",
       "0  PF00665      rve  Domain        2.0     99.0       102.0       52.0   \n",
       "\n",
       "        E-value    clan  \n",
       "0  1.800000e-10  CL0219  "
      ]
     },
     "execution_count": 8,
     "metadata": {},
     "output_type": "execute_result"
    }
   ],
   "source": [
    "# pfam.loc[list(pfam_indices.values())[0]]"
   ]
  },
  {
   "cell_type": "markdown",
   "metadata": {},
   "source": [
    "## Load BioGRID Interactome for yeast"
   ]
  },
  {
   "cell_type": "code",
   "execution_count": 9,
   "metadata": {},
   "outputs": [
    {
     "name": "stderr",
     "output_type": "stream",
     "text": [
      "C:\\Users\\mawil\\Anaconda3\\envs\\SYSC4907\\lib\\site-packages\\IPython\\core\\interactiveshell.py:3145: DtypeWarning: Columns (1,2,18) have mixed types.Specify dtype option on import or set low_memory=False.\n",
      "  has_raised = await self.run_ast_nodes(code_ast.body, cell_name,\n"
     ]
    }
   ],
   "source": [
    "biogrid = pd.read_csv(biogrid_file,\n",
    "                        sep = \"\\t\")"
   ]
  },
  {
   "cell_type": "code",
   "execution_count": 10,
   "metadata": {},
   "outputs": [
    {
     "name": "stdout",
     "output_type": "stream",
     "text": [
      "BioGRID data loaded: Shape: (756225, 37)\n"
     ]
    }
   ],
   "source": [
    "print(f\"BioGRID data loaded: Shape: {biogrid.shape}\")"
   ]
  },
  {
   "cell_type": "code",
   "execution_count": 11,
   "metadata": {},
   "outputs": [
    {
     "name": "stdout",
     "output_type": "stream",
     "text": [
      "Splitting SWISS-PROT sequences with  \"|\"\n",
      "BioGRID data after split: Shape: (769110, 37)\n"
     ]
    }
   ],
   "source": [
    "if split_homologous:\n",
    "    print(\"Splitting SWISS-PROT sequences with  \\\"|\\\"\")\n",
    "    biogrid['SWISS-PROT Accessions Interactor A'] = biogrid['SWISS-PROT Accessions Interactor A'].apply(lambda s: s.split('|'))\n",
    "    biogrid['SWISS-PROT Accessions Interactor B'] = biogrid['SWISS-PROT Accessions Interactor B'].apply(lambda s: s.split('|'))\n",
    "    biogrid = biogrid.explode('SWISS-PROT Accessions Interactor A', ignore_index=True).explode('SWISS-PROT Accessions Interactor B', ignore_index=True)\n",
    "    print(f\"BioGRID data after split: Shape: {biogrid.shape}\")"
   ]
  },
  {
   "cell_type": "markdown",
   "metadata": {},
   "source": [
    "Drop all for where swiss-prot ID is not available"
   ]
  },
  {
   "cell_type": "code",
   "execution_count": 12,
   "metadata": {},
   "outputs": [
    {
     "name": "stdout",
     "output_type": "stream",
     "text": [
      "BioGRID data after dropping \"-\": Shape: (766596, 37)\n"
     ]
    }
   ],
   "source": [
    "biogrid.drop(biogrid[biogrid['SWISS-PROT Accessions Interactor A'] == '-'].index, inplace=True)\n",
    "biogrid.drop(biogrid[biogrid['SWISS-PROT Accessions Interactor B'] == '-'].index, inplace=True)\n",
    "print(f\"BioGRID data after dropping \\\"-\\\": Shape: {biogrid.shape}\")"
   ]
  },
  {
   "cell_type": "markdown",
   "metadata": {},
   "source": [
    "## Load domain-domain interactinos"
   ]
  },
  {
   "cell_type": "code",
   "execution_count": 13,
   "metadata": {},
   "outputs": [],
   "source": [
    "\n",
    "threeDID = pd.read_csv(threedid_file,\n",
    "                    sep = \"\\t\", header = None,\n",
    "                    names=range(7))"
   ]
  },
  {
   "cell_type": "code",
   "execution_count": 14,
   "metadata": {},
   "outputs": [],
   "source": [
    "# this is a flat database; find indices with #=ID, that's what we're interested in (domain domain pairs)\n",
    "id_indices_3did = threeDID[0].loc[threeDID[0] == '#=ID'].index\n",
    "# strip all that are not those indices in non-pfam columns\n",
    "threeDID = threeDID[[3,4]].iloc[id_indices_3did]"
   ]
  },
  {
   "cell_type": "code",
   "execution_count": 16,
   "metadata": {},
   "outputs": [
    {
     "name": "stdout",
     "output_type": "stream",
     "text": [
      "3did Pfam IDs loaded: 14278 Unique column A: 7173 Unique Column B: 7167\n"
     ]
    }
   ],
   "source": [
    "# Reformat so it's just pfam IDs\n",
    "threeDID.columns=[\"Pfam ID A\",\"Pfam ID B\"]\n",
    "threeDID.reset_index(inplace=True, drop=True)\n",
    "\n",
    "# Strip extra characters\n",
    "threeDID['Pfam ID A'] = threeDID['Pfam ID A'].apply(lambda x: re.findall(r'\\((.+?)\\.', x)[0])\n",
    "threeDID['Pfam ID B'] = threeDID['Pfam ID B'].apply(lambda x: re.findall(r'.*(?=\\.)', x)[0])\n",
    "\n",
    "print(f\"3did Pfam IDs loaded: {len(threeDID)} Unique column A: {threeDID['Pfam ID A'].unique().size} Unique Column B: {threeDID['Pfam ID B'].unique().size}\")"
   ]
  },
  {
   "cell_type": "markdown",
   "metadata": {},
   "source": [
    "### Create dictionary of domain pairs"
   ]
  },
  {
   "cell_type": "code",
   "execution_count": null,
   "metadata": {},
   "outputs": [],
   "source": []
  },
  {
   "cell_type": "code",
   "execution_count": 17,
   "metadata": {},
   "outputs": [
    {
     "name": "stdout",
     "output_type": "stream",
     "text": [
      "Creating dict of PFAM pairs\n"
     ]
    }
   ],
   "source": [
    "# create a dict using unique PFAM IDs in 3did, initialized with empty lists\n",
    "print(\"Creating dict of PFAM pairs\")\n",
    "pfam_pairs = {k : [] for k in pd.concat([threeDID['Pfam ID A'], threeDID['Pfam ID B']]).unique()}\n",
    "\n",
    "# for all pairs add to dict\n",
    "for A, B in zip(threeDID['Pfam ID A'], threeDID['Pfam ID B']):\n",
    "    if B not in pfam_pairs[A]:\n",
    "        pfam_pairs[A].append(B)\n",
    "for A, B in zip(threeDID['Pfam ID A'], threeDID['Pfam ID B']):\n",
    "    if A not in pfam_pairs[B]:\n",
    "        pfam_pairs[B].append(A)\n",
    "\n"
   ]
  },
  {
   "cell_type": "markdown",
   "metadata": {},
   "source": [
    "## Find indices of sites for pairs"
   ]
  },
  {
   "cell_type": "code",
   "execution_count": 18,
   "metadata": {},
   "outputs": [],
   "source": [
    "# create new columns in biogrid for domain positions\n",
    "biogrid['domain_a'] = [[] for _ in range(biogrid.shape[0])]\n",
    "biogrid['domain_b'] = [[] for _ in range(biogrid.shape[0])]\n",
    "biogrid['domain_seq_a'] = [[] for _ in range(biogrid.shape[0])]\n",
    "biogrid['domain_seq_b'] = [[] for _ in range(biogrid.shape[0])]"
   ]
  },
  {
   "cell_type": "code",
   "execution_count": 19,
   "metadata": {},
   "outputs": [
    {
     "name": "stdout",
     "output_type": "stream",
     "text": [
      "Searching for domain pairs\n",
      "Total domains found: 43651\n",
      "Total pairs found: 20419\n"
     ]
    }
   ],
   "source": [
    "total_domains_found = 0\n",
    "total_found = 0\n",
    "\n",
    "print(\"Searching for domain pairs\")\n",
    "for PA, PB, DA, DB, DSA, DSB in zip(biogrid['SWISS-PROT Accessions Interactor A'], biogrid['SWISS-PROT Accessions Interactor B'], biogrid['domain_a'], biogrid['domain_b'], biogrid['domain_seq_a'], biogrid['domain_seq_b']):\n",
    "    found = False\n",
    "\n",
    "    try:\n",
    "        # Find locations in PFAM with relevant protein sequences\n",
    "        pfam_indices_A = pfam_indices[PA] \n",
    "        pfam_indices_B = pfam_indices[PB]\n",
    "        # Get iterable of PFAM IDs for domains for each protein\n",
    "        # print(pfam_indices_A[0])\n",
    "        pfam_ids_A = pfam['hmm acc'].loc[pfam_indices_A]\n",
    "        pfam_ids_B = pfam['hmm acc'].loc[pfam_indices_B]\n",
    "    except KeyError as inst:\n",
    "#         print(\"No pfam entry found for protein\")\n",
    "#         print(inst.args)\n",
    "        continue\n",
    "    \n",
    "    # for each domain PFAM id in A\n",
    "    for pfam_index_A, pfam_id_A in pfam_ids_A.iteritems():\n",
    "        # for each domain PFAM id in B\n",
    "        for pfam_index_B, pfam_id_B in pfam_ids_B.iteritems():\n",
    "            try:\n",
    "                # get list of all domain interactions with B\n",
    "                pfam_id_B_pairs = pfam_pairs[pfam_id_B]\n",
    "            except KeyError as inst:\n",
    "#                 print(\"No pairs found for domain \" + inst.args[0])\n",
    "                continue\n",
    "            \n",
    "            # if domain A is in the list of interactions for domain B, we have a match\n",
    "            if pfam_id_A in pfam_id_B_pairs:\n",
    "\n",
    "                # save domain starts and ends as tuples\n",
    "                DA.append(pfam_id_A)\n",
    "                DB.append(pfam_id_B)\n",
    "                DSA.append((pfam['envelope start'].loc[pfam_index_A], pfam['envelope end'].loc[pfam_index_A]))\n",
    "                DSB.append((pfam['envelope start'].loc[pfam_index_B], pfam['envelope end'].loc[pfam_index_B]))\n",
    "                \n",
    "                total_domains_found += 1\n",
    "                found = True\n",
    "    if found:\n",
    "        total_found += 1\n",
    "\n",
    "print(f\"Total domains found: {total_domains_found}\\nTotal pairs found: {total_found}\")"
   ]
  },
  {
   "cell_type": "markdown",
   "metadata": {},
   "source": [
    "## Generate masks"
   ]
  },
  {
   "cell_type": "markdown",
   "metadata": {},
   "source": [
    "Drop all where no domains are found"
   ]
  },
  {
   "cell_type": "code",
   "execution_count": 20,
   "metadata": {},
   "outputs": [
    {
     "name": "stdout",
     "output_type": "stream",
     "text": [
      "Selecting PPI pairs with only 1 domain pairs\n"
     ]
    }
   ],
   "source": [
    "if single_domain_only:\n",
    "    print(\"Selecting PPI pairs with only 1 domain pairs\")\n",
    "    biogrid = biogrid[biogrid.domain_a.str.len() == 1].reset_index()\n",
    "else:\n",
    "    print(\"Selecting PPI pairs with any domain pairs\")\n",
    "    biogrid = biogrid[biogrid.domain_a.str.len() >= 1].reset_index()\n",
    "    "
   ]
  },
  {
   "cell_type": "code",
   "execution_count": 21,
   "metadata": {},
   "outputs": [],
   "source": [
    "# Split out into numpy arrays\n",
    "Uniprot_id_A = biogrid['SWISS-PROT Accessions Interactor A'].to_numpy()\n",
    "Uniprot_id_B = biogrid['SWISS-PROT Accessions Interactor B'].to_numpy()\n",
    "domain_pfam_a = biogrid['domain_a'].to_numpy()\n",
    "domain_pfam_b = biogrid['domain_b'].to_numpy()\n",
    "positions_a = biogrid['domain_seq_a'].to_numpy()\n",
    "positions_b = biogrid['domain_seq_b'].to_numpy()"
   ]
  },
  {
   "cell_type": "markdown",
   "metadata": {},
   "source": [
    "Load proteome from UniProt"
   ]
  },
  {
   "cell_type": "code",
   "execution_count": 22,
   "metadata": {},
   "outputs": [
    {
     "name": "stdout",
     "output_type": "stream",
     "text": [
      "Loaded UniProt proteome\n"
     ]
    }
   ],
   "source": [
    "uniprot_df = pd.read_csv(uniprot_file,\n",
    "                        sep = \"\\t\", index_col='Entry')\n",
    "print(\"Loaded UniProt proteome\")"
   ]
  },
  {
   "cell_type": "markdown",
   "metadata": {},
   "source": [
    "Generate site masks"
   ]
  },
  {
   "cell_type": "code",
   "execution_count": 23,
   "metadata": {},
   "outputs": [
    {
     "name": "stdout",
     "output_type": "stream",
     "text": [
      "Generating site masks\n"
     ]
    },
    {
     "name": "stderr",
     "output_type": "stream",
     "text": [
      "C:\\Users\\mawil\\Anaconda3\\envs\\SYSC4907\\lib\\site-packages\\numpy\\core\\_asarray.py:83: VisibleDeprecationWarning: Creating an ndarray from ragged nested sequences (which is a list-or-tuple of lists-or-tuples-or ndarrays with different lengths or shapes) is deprecated. If you meant to do this, you must specify 'dtype=object' when creating the ndarray\n",
      "  return array(a, dtype, copy=False, order=order)\n"
     ]
    }
   ],
   "source": [
    "site_masks = []\n",
    "print(\"Generating site masks\")\n",
    "for UA, UB, DA, DB, PA, PB in zip(Uniprot_id_A, Uniprot_id_B, domain_pfam_a, domain_pfam_b, positions_a, positions_b):\n",
    "    interaction_area = 0\n",
    "    try:\n",
    "        lengths = (uniprot_df['Length'].loc[UA], uniprot_df['Length'].loc[UB])\n",
    "        \n",
    "        # filter for smaller interaction areas - we don't want to do the whole protein\n",
    "        if interaction_area <= max_interaction_area * lengths[0]*lengths[1]:\n",
    "            # initialize mask with dimensions of protein sequence\n",
    "            mask = np.zeros(lengths, dtype=int)\n",
    "            \n",
    "            for pos_A, pos_B in zip(PA, PB):\n",
    "                \n",
    "                # calculate area of interaction\n",
    "                interaction_area += (pos_A[1]-pos_A[0])*(pos_B[1]-pos_B[0])\n",
    "                # set area of interaction to 1\n",
    "                mask[(pos_A[0]-1):(pos_A[1]-1), (pos_B[0]-1):(pos_B[1]-1)] = 1 # -1 as protein indexing starts by 1\n",
    "        \n",
    "            site_masks.append(mask)\n",
    "        else:\n",
    "            site_masks.append(np.NaN)\n",
    "    except KeyError as inst:\n",
    "        print(UA, UB)\n",
    "        print(f\"No uniprot entry found for protein {inst.args}\")\n",
    "        site_masks.append(np.NaN)\n",
    "        \n",
    "site_masks = np.asarray(site_masks)"
   ]
  },
  {
   "cell_type": "code",
   "execution_count": 24,
   "metadata": {},
   "outputs": [
    {
     "name": "stdout",
     "output_type": "stream",
     "text": [
      "Created 12917 domain masks with area <= 50.0 % \n"
     ]
    }
   ],
   "source": [
    "# Turn back into pandas dataframe\n",
    "masks_domainsOnly = pd.DataFrame({'Uniprot ID A': Uniprot_id_A,\n",
    "                                            'Uniprot ID B': Uniprot_id_B,\n",
    "                                            'Domain_id_a': domain_pfam_a,\n",
    "                                            'Domain_id_b': domain_pfam_b,\n",
    "                                            'Domain positions A': positions_a,\n",
    "                                            'Domain positions B': positions_b,\n",
    "                                            'Sites Masks': site_masks})\n",
    "# drop all masks for proteins we could not find/area was > 50%\n",
    "masks_domainsOnly.dropna(inplace=True)\n",
    "masks_domainsOnly.reset_index(drop=True, inplace=True)\n",
    "\n",
    "print(f\"Created {masks_domainsOnly.shape[0]} domain masks with area <= {max_interaction_area*100} % \")"
   ]
  },
  {
   "cell_type": "code",
   "execution_count": null,
   "metadata": {},
   "outputs": [],
   "source": [
    "masks_domainsOnly.to_pickle(save_file_path)"
   ]
  },
  {
   "cell_type": "code",
   "execution_count": null,
   "metadata": {},
   "outputs": [],
   "source": []
  }
 ],
 "metadata": {
  "kernelspec": {
   "display_name": "Python 3",
   "language": "python",
   "name": "python3"
  },
  "language_info": {
   "codemirror_mode": {
    "name": "ipython",
    "version": 3
   },
   "file_extension": ".py",
   "mimetype": "text/x-python",
   "name": "python",
   "nbconvert_exporter": "python",
   "pygments_lexer": "ipython3",
   "version": "3.8.5"
  }
 },
 "nbformat": 4,
 "nbformat_minor": 4
}
