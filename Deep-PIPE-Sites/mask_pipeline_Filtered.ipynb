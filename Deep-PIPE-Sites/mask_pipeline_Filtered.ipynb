{
 "cells": [
  {
   "cell_type": "code",
   "execution_count": 1,
   "metadata": {},
   "outputs": [],
   "source": [
    "import pandas as pd\n",
    "import numpy as np\n",
    "import matplotlib.pyplot as plt\n",
    "import seaborn as sns\n",
    "import re"
   ]
  },
  {
   "cell_type": "code",
   "execution_count": 38,
   "metadata": {},
   "outputs": [],
   "source": [
    "pfam_file = 'data/pfam_yeast_domains.tsv' # http://pfam.xfam.org/proteome/559292#tabview=tab2\n",
    "biogrid_file = \"data/BIOGRID-ORGANISM-Saccharomyces_cerevisiae_S288c-4.2.191.tab3.txt\"\n",
    "threedid_file = \"data/3did_flat_Apr_10_2020.dat\" # from https://3did.irbbarcelona.org/download.php\n",
    "uniprot_file = \"data/uniprot-proteome UP000002311.tab\"# reference proteome at https://www.uniprot.org/proteomes/UP000002311\n",
    "pp_CD_Hit = \"data/yeast_pp_CDHit.tsv\"\n",
    "protein_sequence = \"data/conservative_data/output_sequences.fasta\"\n",
    "# general proteome (reviewed S. cerevisiae) at https://www.uniprot.org/uniprot/?query=taxonomy:%22Saccharomyces%20cerevisiae%20(strain%20ATCC%20204508%20/%20S288c)%20(Baker%27s%20yeast)%20[559292]%22&fil=organism%3A%22Saccharomyces+cerevisiae+%28strain+ATCC+204508+%2F+S288c%29+%28Baker%27s+yeast%29+%5B559292%5D%22+AND+reviewed%3Ayes\n",
    "split_homologous = True\n",
    "pfam_domains_only = False\n",
    "single_domain_only = True\n",
    "max_interaction_area = 0.5\n",
    "\n",
    "save_file_path = \"data/yeast_masks_singlesite_domains_only_filtered.pkl\""
   ]
  },
  {
   "cell_type": "markdown",
   "metadata": {},
   "source": [
    "# Import PFAM data"
   ]
  },
  {
   "cell_type": "code",
   "execution_count": 3,
   "metadata": {},
   "outputs": [
    {
     "name": "stdout",
     "output_type": "stream",
     "text": [
      "Pfam data loaded: Shape: (7907, 14), Unique proteins: 4930\n"
     ]
    }
   ],
   "source": [
    "# load in header row as single string # names are between angle brackets\n",
    "pfam_header = re.findall(r'<(.*?)>', pd.read_csv(pfam_file, sep='\\n', header=2).columns[0]);\n",
    "pfam = pd.read_csv(pfam_file, sep='\\t', names=pfam_header);\n",
    "pfam = pfam.drop(range(3)).reset_index(drop=True)\n",
    "print(f\"Pfam data loaded: Shape: {pfam.shape}, Unique proteins: {pfam['seq id'].unique().size}\")"
   ]
  },
  {
   "cell_type": "markdown",
   "metadata": {},
   "source": [
    "We are choosing to drop all types that are not explicitly domain"
   ]
  },
  {
   "cell_type": "code",
   "execution_count": 4,
   "metadata": {},
   "outputs": [
    {
     "name": "stdout",
     "output_type": "stream",
     "text": [
      "Pfam subsequence types: ['Domain' 'Family' 'Coiled-coil' 'Repeat' 'Motif' 'Disordered']\n",
      "Keep all types\n"
     ]
    }
   ],
   "source": [
    "print(f\"Pfam subsequence types: {pfam['type'].unique()}\")\n",
    "if pfam_domains_only:\n",
    "    print('Dropping pfam entries that are not domains')\n",
    "    pfam = pfam[pfam['type'] == 'Domain'].sort_values('seq id')\n",
    "    pfam.reset_index(drop=True, inplace=True)\n",
    "    print(f\"Pfam data after dropping: Shape: {pfam.shape}, Unique proteins: {pfam['seq id'].unique().size}\")\n",
    "else:\n",
    "    print(\"Keep all types\")"
   ]
  },
  {
   "cell_type": "code",
   "execution_count": 5,
   "metadata": {},
   "outputs": [],
   "source": [
    "# convert indices to int\n",
    "pfam['envelope start'] = pfam['envelope start'].round(0).astype(np.int)\n",
    "pfam['envelope end'] = pfam['envelope end'].round(0).astype(np.int)"
   ]
  },
  {
   "cell_type": "markdown",
   "metadata": {},
   "source": [
    "### Create map of sequence IDs and their indices"
   ]
  },
  {
   "cell_type": "code",
   "execution_count": 6,
   "metadata": {},
   "outputs": [
    {
     "name": "stdout",
     "output_type": "stream",
     "text": [
      "Creating map of sequence IDs and their indices in PFAM\n"
     ]
    }
   ],
   "source": [
    "print(\"Creating map of sequence IDs and their indices in PFAM\")\n",
    "pfam_indices = dict.fromkeys(pfam['seq id'].unique())"
   ]
  },
  {
   "cell_type": "markdown",
   "metadata": {},
   "source": [
    "Find all locations in PFAM dataframe where index occurs and add it to map"
   ]
  },
  {
   "cell_type": "code",
   "execution_count": 7,
   "metadata": {},
   "outputs": [],
   "source": [
    "for key in pfam_indices:\n",
    "    pfam_indices[key] = pfam['seq id'][pfam['seq id'] == key].index"
   ]
  },
  {
   "cell_type": "code",
   "execution_count": 8,
   "metadata": {},
   "outputs": [],
   "source": [
    "# pfam.loc[list(pfam_indices.values())[0]]"
   ]
  },
  {
   "cell_type": "markdown",
   "metadata": {},
   "source": [
    "## Load BioGRID Interactome for yeast"
   ]
  },
  {
   "cell_type": "code",
   "execution_count": 9,
   "metadata": {},
   "outputs": [],
   "source": [
    "#biogrid = pd.read_csv(biogrid_file,\n",
    "#                        sep = \"\\t\")"
   ]
  },
  {
   "cell_type": "code",
   "execution_count": 10,
   "metadata": {},
   "outputs": [],
   "source": [
    "#print(f\"BioGRID data loaded: Shape: {biogrid.shape}\")"
   ]
  },
  {
   "cell_type": "code",
   "execution_count": 11,
   "metadata": {},
   "outputs": [],
   "source": [
    "#if split_homologous:\n",
    "#    print(\"Splitting SWISS-PROT sequences with  \\\"|\\\"\")\n",
    "#    biogrid['SWISS-PROT Accessions Interactor A'] = biogrid['SWISS-PROT Accessions Interactor A'].apply(lambda s: s.split('|'))\n",
    "#    biogrid['SWISS-PROT Accessions Interactor B'] = biogrid['SWISS-PROT Accessions Interactor B'].apply(lambda s: s.split('|'))\n",
    "#    biogrid = biogrid.explode('SWISS-PROT Accessions Interactor A', ignore_index=True).explode('SWISS-PROT Accessions Interactor B', ignore_index=True)\n",
    "#    print(f\"BioGRID data after split: Shape: {biogrid.shape}\")"
   ]
  },
  {
   "cell_type": "markdown",
   "metadata": {},
   "source": [
    "Drop all for where swiss-prot ID is not available"
   ]
  },
  {
   "cell_type": "code",
   "execution_count": 12,
   "metadata": {},
   "outputs": [],
   "source": [
    "#biogrid.drop(biogrid[biogrid['SWISS-PROT Accessions Interactor A'] == '-'].index, inplace=True)\n",
    "#biogrid.drop(biogrid[biogrid['SWISS-PROT Accessions Interactor B'] == '-'].index, inplace=True)\n",
    "#print(f\"BioGRID data after dropping \\\"-\\\": Shape: {biogrid.shape}\")"
   ]
  },
  {
   "cell_type": "code",
   "execution_count": 13,
   "metadata": {},
   "outputs": [
    {
     "data": {
      "text/html": [
       "<div>\n",
       "<style scoped>\n",
       "    .dataframe tbody tr th:only-of-type {\n",
       "        vertical-align: middle;\n",
       "    }\n",
       "\n",
       "    .dataframe tbody tr th {\n",
       "        vertical-align: top;\n",
       "    }\n",
       "\n",
       "    .dataframe thead th {\n",
       "        text-align: right;\n",
       "    }\n",
       "</style>\n",
       "<table border=\"1\" class=\"dataframe\">\n",
       "  <thead>\n",
       "    <tr style=\"text-align: right;\">\n",
       "      <th></th>\n",
       "      <th>SWISS-PROT Accessions Interactor A</th>\n",
       "      <th>SWISS-PROT Accessions Interactor B</th>\n",
       "    </tr>\n",
       "  </thead>\n",
       "  <tbody>\n",
       "    <tr>\n",
       "      <th>0</th>\n",
       "      <td>P47112</td>\n",
       "      <td>P32833</td>\n",
       "    </tr>\n",
       "    <tr>\n",
       "      <th>1</th>\n",
       "      <td>P32585</td>\n",
       "      <td>P19659</td>\n",
       "    </tr>\n",
       "    <tr>\n",
       "      <th>2</th>\n",
       "      <td>P40013</td>\n",
       "      <td>P09733</td>\n",
       "    </tr>\n",
       "    <tr>\n",
       "      <th>3</th>\n",
       "      <td>P36122</td>\n",
       "      <td>Q12114</td>\n",
       "    </tr>\n",
       "    <tr>\n",
       "      <th>4</th>\n",
       "      <td>P36053</td>\n",
       "      <td>P19454</td>\n",
       "    </tr>\n",
       "    <tr>\n",
       "      <th>...</th>\n",
       "      <td>...</td>\n",
       "      <td>...</td>\n",
       "    </tr>\n",
       "    <tr>\n",
       "      <th>15219</th>\n",
       "      <td>P53725</td>\n",
       "      <td>P38792</td>\n",
       "    </tr>\n",
       "    <tr>\n",
       "      <th>15220</th>\n",
       "      <td>P19073</td>\n",
       "      <td>Q12434</td>\n",
       "    </tr>\n",
       "    <tr>\n",
       "      <th>15221</th>\n",
       "      <td>P40449</td>\n",
       "      <td>P53971</td>\n",
       "    </tr>\n",
       "    <tr>\n",
       "      <th>15222</th>\n",
       "      <td>P11484</td>\n",
       "      <td>P38792</td>\n",
       "    </tr>\n",
       "    <tr>\n",
       "      <th>15223</th>\n",
       "      <td>Q06406</td>\n",
       "      <td>P39517</td>\n",
       "    </tr>\n",
       "  </tbody>\n",
       "</table>\n",
       "<p>14658 rows × 2 columns</p>\n",
       "</div>"
      ],
      "text/plain": [
       "      SWISS-PROT Accessions Interactor A SWISS-PROT Accessions Interactor B\n",
       "0                                 P47112                             P32833\n",
       "1                                 P32585                             P19659\n",
       "2                                 P40013                             P09733\n",
       "3                                 P36122                             Q12114\n",
       "4                                 P36053                             P19454\n",
       "...                                  ...                                ...\n",
       "15219                             P53725                             P38792\n",
       "15220                             P19073                             Q12434\n",
       "15221                             P40449                             P53971\n",
       "15222                             P11484                             P38792\n",
       "15223                             Q06406                             P39517\n",
       "\n",
       "[14658 rows x 2 columns]"
      ]
     },
     "execution_count": 13,
     "metadata": {},
     "output_type": "execute_result"
    }
   ],
   "source": [
    "biogrid = pd.read_csv(pp_CD_Hit,\n",
    "                      \"\\t\", index_col=0, names=['SWISS-PROT Accessions Interactor A', 'SWISS-PROT Accessions Interactor B'], header=0)\n",
    "biogrid"
   ]
  },
  {
   "cell_type": "markdown",
   "metadata": {},
   "source": [
    "## Load domain-domain interactinos"
   ]
  },
  {
   "cell_type": "code",
   "execution_count": 14,
   "metadata": {},
   "outputs": [],
   "source": [
    "\n",
    "threeDID = pd.read_csv(threedid_file,\n",
    "                    sep = \"\\t\", header = None,\n",
    "                    names=range(7))"
   ]
  },
  {
   "cell_type": "code",
   "execution_count": 15,
   "metadata": {},
   "outputs": [],
   "source": [
    "# this is a flat database; find indices with #=ID, that's what we're interested in (domain domain pairs)\n",
    "id_indices_3did = threeDID[0].loc[threeDID[0] == '#=ID'].index\n",
    "# strip all that are not those indices in non-pfam columns\n",
    "threeDID = threeDID[[3,4]].iloc[id_indices_3did]"
   ]
  },
  {
   "cell_type": "code",
   "execution_count": 16,
   "metadata": {},
   "outputs": [
    {
     "name": "stdout",
     "output_type": "stream",
     "text": [
      "3did Pfam IDs loaded: 14278 Unique column A: 7173 Unique Column B: 7167\n"
     ]
    }
   ],
   "source": [
    "# Reformat so it's just pfam IDs\n",
    "threeDID.columns=[\"Pfam ID A\",\"Pfam ID B\"]\n",
    "threeDID.reset_index(inplace=True, drop=True)\n",
    "\n",
    "# Strip extra characters\n",
    "threeDID['Pfam ID A'] = threeDID['Pfam ID A'].apply(lambda x: re.findall(r'\\((.+?)\\.', x)[0])\n",
    "threeDID['Pfam ID B'] = threeDID['Pfam ID B'].apply(lambda x: re.findall(r'.*(?=\\.)', x)[0])\n",
    "\n",
    "print(f\"3did Pfam IDs loaded: {len(threeDID)} Unique column A: {threeDID['Pfam ID A'].unique().size} Unique Column B: {threeDID['Pfam ID B'].unique().size}\")"
   ]
  },
  {
   "cell_type": "markdown",
   "metadata": {},
   "source": [
    "### Create dictionary of domain pairs"
   ]
  },
  {
   "cell_type": "code",
   "execution_count": 17,
   "metadata": {},
   "outputs": [
    {
     "name": "stdout",
     "output_type": "stream",
     "text": [
      "Creating dict of PFAM pairs\n"
     ]
    }
   ],
   "source": [
    "# create a dict using unique PFAM IDs in 3did, initialized with empty lists\n",
    "print(\"Creating dict of PFAM pairs\")\n",
    "pfam_pairs = {k : [] for k in pd.concat([threeDID['Pfam ID A'], threeDID['Pfam ID B']]).unique()}\n",
    "\n",
    "# for all pairs add to dict\n",
    "for A, B in zip(threeDID['Pfam ID A'], threeDID['Pfam ID B']):\n",
    "    if B not in pfam_pairs[A]:\n",
    "        pfam_pairs[A].append(B)\n",
    "for A, B in zip(threeDID['Pfam ID A'], threeDID['Pfam ID B']):\n",
    "    if A not in pfam_pairs[B]:\n",
    "        pfam_pairs[B].append(A)\n",
    "\n"
   ]
  },
  {
   "cell_type": "markdown",
   "metadata": {},
   "source": [
    "## Find indices of sites for pairs"
   ]
  },
  {
   "cell_type": "code",
   "execution_count": 18,
   "metadata": {},
   "outputs": [],
   "source": [
    "# create new columns in biogrid for domain positions\n",
    "biogrid['domain_a'] = [[] for _ in range(biogrid.shape[0])]\n",
    "biogrid['domain_b'] = [[] for _ in range(biogrid.shape[0])]\n",
    "biogrid['domain_seq_a'] = [[] for _ in range(biogrid.shape[0])]\n",
    "biogrid['domain_seq_b'] = [[] for _ in range(biogrid.shape[0])]"
   ]
  },
  {
   "cell_type": "code",
   "execution_count": 19,
   "metadata": {},
   "outputs": [
    {
     "name": "stdout",
     "output_type": "stream",
     "text": [
      "Searching for domain pairs\n",
      "Total domains found: 6545\n",
      "Total pairs found: 2699\n"
     ]
    }
   ],
   "source": [
    "total_domains_found = 0\n",
    "total_found = 0\n",
    "\n",
    "print(\"Searching for domain pairs\")\n",
    "for PA, PB, DA, DB, DSA, DSB in zip(biogrid['SWISS-PROT Accessions Interactor A'], biogrid['SWISS-PROT Accessions Interactor B'], biogrid['domain_a'], biogrid['domain_b'], biogrid['domain_seq_a'], biogrid['domain_seq_b']):\n",
    "    found = False\n",
    "\n",
    "    try:\n",
    "        # Find locations in PFAM with relevant protein sequences\n",
    "        pfam_indices_A = pfam_indices[PA] \n",
    "        pfam_indices_B = pfam_indices[PB]\n",
    "        # Get iterable of PFAM IDs for domains for each protein\n",
    "        # print(pfam_indices_A[0])\n",
    "        pfam_ids_A = pfam['hmm acc'].loc[pfam_indices_A]\n",
    "        pfam_ids_B = pfam['hmm acc'].loc[pfam_indices_B]\n",
    "    except KeyError as inst:\n",
    "#         print(\"No pfam entry found for protein\")\n",
    "#         print(inst.args)\n",
    "        continue\n",
    "    \n",
    "    # for each domain PFAM id in A\n",
    "    for pfam_index_A, pfam_id_A in pfam_ids_A.iteritems():\n",
    "        # for each domain PFAM id in B\n",
    "        for pfam_index_B, pfam_id_B in pfam_ids_B.iteritems():\n",
    "            try:\n",
    "                # get list of all domain interactions with B\n",
    "                pfam_id_B_pairs = pfam_pairs[pfam_id_B]\n",
    "            except KeyError as inst:\n",
    "#                 print(\"No pairs found for domain \" + inst.args[0])\n",
    "                continue\n",
    "            \n",
    "            # if domain A is in the list of interactions for domain B, we have a match\n",
    "            if pfam_id_A in pfam_id_B_pairs:\n",
    "\n",
    "                # save domain starts and ends as tuples\n",
    "                DA.append(pfam_id_A)\n",
    "                DB.append(pfam_id_B)\n",
    "                DSA.append((pfam['envelope start'].loc[pfam_index_A], pfam['envelope end'].loc[pfam_index_A]))\n",
    "                DSB.append((pfam['envelope start'].loc[pfam_index_B], pfam['envelope end'].loc[pfam_index_B]))\n",
    "                \n",
    "                total_domains_found += 1\n",
    "                found = True\n",
    "    if found:\n",
    "        total_found += 1\n",
    "\n",
    "print(f\"Total domains found: {total_domains_found}\\nTotal pairs found: {total_found}\")"
   ]
  },
  {
   "cell_type": "markdown",
   "metadata": {},
   "source": [
    "## Generate masks"
   ]
  },
  {
   "cell_type": "markdown",
   "metadata": {},
   "source": [
    "Drop all where no domains are found"
   ]
  },
  {
   "cell_type": "code",
   "execution_count": 45,
   "metadata": {},
   "outputs": [
    {
     "name": "stdout",
     "output_type": "stream",
     "text": [
      "Selecting PPI pairs with only 1 domain pairs\n"
     ]
    },
    {
     "data": {
      "text/html": [
       "<div>\n",
       "<style scoped>\n",
       "    .dataframe tbody tr th:only-of-type {\n",
       "        vertical-align: middle;\n",
       "    }\n",
       "\n",
       "    .dataframe tbody tr th {\n",
       "        vertical-align: top;\n",
       "    }\n",
       "\n",
       "    .dataframe thead th {\n",
       "        text-align: right;\n",
       "    }\n",
       "</style>\n",
       "<table border=\"1\" class=\"dataframe\">\n",
       "  <thead>\n",
       "    <tr style=\"text-align: right;\">\n",
       "      <th></th>\n",
       "      <th>level_0</th>\n",
       "      <th>index</th>\n",
       "      <th>SWISS-PROT Accessions Interactor A</th>\n",
       "      <th>SWISS-PROT Accessions Interactor B</th>\n",
       "      <th>domain_a</th>\n",
       "      <th>domain_b</th>\n",
       "      <th>domain_seq_a</th>\n",
       "      <th>domain_seq_b</th>\n",
       "    </tr>\n",
       "  </thead>\n",
       "  <tbody>\n",
       "    <tr>\n",
       "      <th>0</th>\n",
       "      <td>0</td>\n",
       "      <td>8</td>\n",
       "      <td>P53081</td>\n",
       "      <td>P53081</td>\n",
       "      <td>[PF01784]</td>\n",
       "      <td>[PF01784]</td>\n",
       "      <td>[(12, 275)]</td>\n",
       "      <td>[(12, 275)]</td>\n",
       "    </tr>\n",
       "    <tr>\n",
       "      <th>1</th>\n",
       "      <td>1</td>\n",
       "      <td>13</td>\n",
       "      <td>Q12188</td>\n",
       "      <td>P47037</td>\n",
       "      <td>[PF04825]</td>\n",
       "      <td>[PF02463]</td>\n",
       "      <td>[(11, 136)]</td>\n",
       "      <td>[(2, 1208)]</td>\n",
       "    </tr>\n",
       "    <tr>\n",
       "      <th>2</th>\n",
       "      <td>2</td>\n",
       "      <td>33</td>\n",
       "      <td>Q03020</td>\n",
       "      <td>P25374</td>\n",
       "      <td>[PF01592]</td>\n",
       "      <td>[PF00266]</td>\n",
       "      <td>[(34, 161)]</td>\n",
       "      <td>[(100, 462)]</td>\n",
       "    </tr>\n",
       "    <tr>\n",
       "      <th>3</th>\n",
       "      <td>3</td>\n",
       "      <td>36</td>\n",
       "      <td>P17065</td>\n",
       "      <td>P51996</td>\n",
       "      <td>[PF06428]</td>\n",
       "      <td>[PF00071]</td>\n",
       "      <td>[(79, 170)]</td>\n",
       "      <td>[(15, 176)]</td>\n",
       "    </tr>\n",
       "    <tr>\n",
       "      <th>4</th>\n",
       "      <td>4</td>\n",
       "      <td>50</td>\n",
       "      <td>P00546</td>\n",
       "      <td>P20437</td>\n",
       "      <td>[PF00069]</td>\n",
       "      <td>[PF00134]</td>\n",
       "      <td>[(8, 295)]</td>\n",
       "      <td>[(41, 193)]</td>\n",
       "    </tr>\n",
       "    <tr>\n",
       "      <th>...</th>\n",
       "      <td>...</td>\n",
       "      <td>...</td>\n",
       "      <td>...</td>\n",
       "      <td>...</td>\n",
       "      <td>...</td>\n",
       "      <td>...</td>\n",
       "      <td>...</td>\n",
       "      <td>...</td>\n",
       "    </tr>\n",
       "    <tr>\n",
       "      <th>1601</th>\n",
       "      <td>1601</td>\n",
       "      <td>15198</td>\n",
       "      <td>Q12403</td>\n",
       "      <td>P54837</td>\n",
       "      <td>[PF01105]</td>\n",
       "      <td>[PF01105]</td>\n",
       "      <td>[(23, 218)]</td>\n",
       "      <td>[(20, 206)]</td>\n",
       "    </tr>\n",
       "    <tr>\n",
       "      <th>1602</th>\n",
       "      <td>1602</td>\n",
       "      <td>15205</td>\n",
       "      <td>Q06549</td>\n",
       "      <td>Q06549</td>\n",
       "      <td>[PF00383]</td>\n",
       "      <td>[PF00383]</td>\n",
       "      <td>[(8, 115)]</td>\n",
       "      <td>[(8, 115)]</td>\n",
       "    </tr>\n",
       "    <tr>\n",
       "      <th>1603</th>\n",
       "      <td>1603</td>\n",
       "      <td>15215</td>\n",
       "      <td>Q12335</td>\n",
       "      <td>Q12335</td>\n",
       "      <td>[PF03358]</td>\n",
       "      <td>[PF03358]</td>\n",
       "      <td>[(8, 148)]</td>\n",
       "      <td>[(8, 148)]</td>\n",
       "    </tr>\n",
       "    <tr>\n",
       "      <th>1604</th>\n",
       "      <td>1604</td>\n",
       "      <td>15219</td>\n",
       "      <td>P53725</td>\n",
       "      <td>P38792</td>\n",
       "      <td>[PF10175]</td>\n",
       "      <td>[PF15985]</td>\n",
       "      <td>[(9, 186)]</td>\n",
       "      <td>[(197, 239)]</td>\n",
       "    </tr>\n",
       "    <tr>\n",
       "      <th>1605</th>\n",
       "      <td>1605</td>\n",
       "      <td>15220</td>\n",
       "      <td>P19073</td>\n",
       "      <td>Q12434</td>\n",
       "      <td>[PF00071]</td>\n",
       "      <td>[PF02115]</td>\n",
       "      <td>[(5, 178)]</td>\n",
       "      <td>[(3, 202)]</td>\n",
       "    </tr>\n",
       "  </tbody>\n",
       "</table>\n",
       "<p>1606 rows × 8 columns</p>\n",
       "</div>"
      ],
      "text/plain": [
       "      level_0  index SWISS-PROT Accessions Interactor A  \\\n",
       "0           0      8                             P53081   \n",
       "1           1     13                             Q12188   \n",
       "2           2     33                             Q03020   \n",
       "3           3     36                             P17065   \n",
       "4           4     50                             P00546   \n",
       "...       ...    ...                                ...   \n",
       "1601     1601  15198                             Q12403   \n",
       "1602     1602  15205                             Q06549   \n",
       "1603     1603  15215                             Q12335   \n",
       "1604     1604  15219                             P53725   \n",
       "1605     1605  15220                             P19073   \n",
       "\n",
       "     SWISS-PROT Accessions Interactor B   domain_a   domain_b domain_seq_a  \\\n",
       "0                                P53081  [PF01784]  [PF01784]  [(12, 275)]   \n",
       "1                                P47037  [PF04825]  [PF02463]  [(11, 136)]   \n",
       "2                                P25374  [PF01592]  [PF00266]  [(34, 161)]   \n",
       "3                                P51996  [PF06428]  [PF00071]  [(79, 170)]   \n",
       "4                                P20437  [PF00069]  [PF00134]   [(8, 295)]   \n",
       "...                                 ...        ...        ...          ...   \n",
       "1601                             P54837  [PF01105]  [PF01105]  [(23, 218)]   \n",
       "1602                             Q06549  [PF00383]  [PF00383]   [(8, 115)]   \n",
       "1603                             Q12335  [PF03358]  [PF03358]   [(8, 148)]   \n",
       "1604                             P38792  [PF10175]  [PF15985]   [(9, 186)]   \n",
       "1605                             Q12434  [PF00071]  [PF02115]   [(5, 178)]   \n",
       "\n",
       "      domain_seq_b  \n",
       "0      [(12, 275)]  \n",
       "1      [(2, 1208)]  \n",
       "2     [(100, 462)]  \n",
       "3      [(15, 176)]  \n",
       "4      [(41, 193)]  \n",
       "...            ...  \n",
       "1601   [(20, 206)]  \n",
       "1602    [(8, 115)]  \n",
       "1603    [(8, 148)]  \n",
       "1604  [(197, 239)]  \n",
       "1605    [(3, 202)]  \n",
       "\n",
       "[1606 rows x 8 columns]"
      ]
     },
     "execution_count": 45,
     "metadata": {},
     "output_type": "execute_result"
    }
   ],
   "source": [
    "if single_domain_only:\n",
    "    print(\"Selecting PPI pairs with only 1 domain pairs\")\n",
    "    biogrid = biogrid[biogrid.domain_a.str.len() == 1].reset_index(drop=True)\n",
    "else:\n",
    "    print(\"Selecting PPI pairs with any domain pairs\")\n",
    "    biogrid = biogrid[biogrid.domain_a.str.len() >= 1].reset_index(drop=True)"
   ]
  },
  {
   "cell_type": "code",
   "execution_count": 50,
   "metadata": {},
   "outputs": [
    {
     "data": {
      "text/plain": [
       "array(['P53081', 'Q12188', 'Q03020', ..., 'Q12335', 'P53725', 'P19073'],\n",
       "      dtype=object)"
      ]
     },
     "execution_count": 50,
     "metadata": {},
     "output_type": "execute_result"
    }
   ],
   "source": [
    "# Split out into numpy arrays\n",
    "Uniprot_id_A = biogrid['SWISS-PROT Accessions Interactor A'].to_numpy()\n",
    "Uniprot_id_B = biogrid['SWISS-PROT Accessions Interactor B'].to_numpy()\n",
    "domain_pfam_a = biogrid['domain_a'].to_numpy()\n",
    "domain_pfam_b = biogrid['domain_b'].to_numpy()\n",
    "positions_a = biogrid['domain_seq_a'].to_numpy()\n",
    "positions_b = biogrid['domain_seq_b'].to_numpy()"
   ]
  },
  {
   "cell_type": "markdown",
   "metadata": {},
   "source": [
    "Load proteome from UniProt"
   ]
  },
  {
   "cell_type": "code",
   "execution_count": 47,
   "metadata": {},
   "outputs": [
    {
     "name": "stdout",
     "output_type": "stream",
     "text": [
      "Loaded UniProt proteome\n"
     ]
    },
    {
     "data": {
      "text/html": [
       "<div>\n",
       "<style scoped>\n",
       "    .dataframe tbody tr th:only-of-type {\n",
       "        vertical-align: middle;\n",
       "    }\n",
       "\n",
       "    .dataframe tbody tr th {\n",
       "        vertical-align: top;\n",
       "    }\n",
       "\n",
       "    .dataframe thead th {\n",
       "        text-align: right;\n",
       "    }\n",
       "</style>\n",
       "<table border=\"1\" class=\"dataframe\">\n",
       "  <thead>\n",
       "    <tr style=\"text-align: right;\">\n",
       "      <th></th>\n",
       "      <th>0</th>\n",
       "    </tr>\n",
       "  </thead>\n",
       "  <tbody>\n",
       "    <tr>\n",
       "      <th>0</th>\n",
       "      <td>&gt; P39937</td>\n",
       "    </tr>\n",
       "    <tr>\n",
       "      <th>1</th>\n",
       "      <td>MTYEIGDRLKIGGYFCTIKFIGVIKPWPSVKAYGVEWDDHSRGKHS...</td>\n",
       "    </tr>\n",
       "    <tr>\n",
       "      <th>2</th>\n",
       "      <td>&gt; P38764</td>\n",
       "    </tr>\n",
       "    <tr>\n",
       "      <th>3</th>\n",
       "      <td>MVDESDKKQQTIDEQSQISPEKQTPNKKDKKKEEEEQLSEEDAKLK...</td>\n",
       "    </tr>\n",
       "    <tr>\n",
       "      <th>4</th>\n",
       "      <td>&gt; P53127</td>\n",
       "    </tr>\n",
       "    <tr>\n",
       "      <th>...</th>\n",
       "      <td>...</td>\n",
       "    </tr>\n",
       "    <tr>\n",
       "      <th>7315</th>\n",
       "      <td>MSFENLHKVNAEALEDAVVEICSSLQVDAAKLDELTAYFIECMEKG...</td>\n",
       "    </tr>\n",
       "    <tr>\n",
       "      <th>7316</th>\n",
       "      <td>&gt; P54783</td>\n",
       "    </tr>\n",
       "    <tr>\n",
       "      <th>7317</th>\n",
       "      <td>MSTIPFRKNYVFKNWAGIYSAKPERYFQPSSIDEVVELVKSARLAE...</td>\n",
       "    </tr>\n",
       "    <tr>\n",
       "      <th>7318</th>\n",
       "      <td>&gt; P25616</td>\n",
       "    </tr>\n",
       "    <tr>\n",
       "      <th>7319</th>\n",
       "      <td>MKTIIISDFDETITRVDTICTIAKLPYLLNPRLKPEWGHFTKTYMD...</td>\n",
       "    </tr>\n",
       "  </tbody>\n",
       "</table>\n",
       "<p>7320 rows × 1 columns</p>\n",
       "</div>"
      ],
      "text/plain": [
       "                                                      0\n",
       "0                                              > P39937\n",
       "1     MTYEIGDRLKIGGYFCTIKFIGVIKPWPSVKAYGVEWDDHSRGKHS...\n",
       "2                                              > P38764\n",
       "3     MVDESDKKQQTIDEQSQISPEKQTPNKKDKKKEEEEQLSEEDAKLK...\n",
       "4                                              > P53127\n",
       "...                                                 ...\n",
       "7315  MSFENLHKVNAEALEDAVVEICSSLQVDAAKLDELTAYFIECMEKG...\n",
       "7316                                           > P54783\n",
       "7317  MSTIPFRKNYVFKNWAGIYSAKPERYFQPSSIDEVVELVKSARLAE...\n",
       "7318                                           > P25616\n",
       "7319  MKTIIISDFDETITRVDTICTIAKLPYLLNPRLKPEWGHFTKTYMD...\n",
       "\n",
       "[7320 rows x 1 columns]"
      ]
     },
     "execution_count": 47,
     "metadata": {},
     "output_type": "execute_result"
    }
   ],
   "source": [
    "#uniprot_df = pd.read_csv(uniprot_file,\n",
    "#                        sep = \"\\t\", index_col='Entry')\n",
    "#protein_sequence_CD = pd.read_csv(protein_sequence,\n",
    "#                                  sep = \"\\>\", header=0 )\n",
    "protein_sequence_CD = pd.read_csv(protein_sequence, header = None, sep = \"\\t\")\n",
    "print(\"Loaded UniProt proteome\")\n",
    "protein_sequence_CD"
   ]
  },
  {
   "cell_type": "code",
   "execution_count": 52,
   "metadata": {},
   "outputs": [
    {
     "data": {
      "text/html": [
       "<div>\n",
       "<style scoped>\n",
       "    .dataframe tbody tr th:only-of-type {\n",
       "        vertical-align: middle;\n",
       "    }\n",
       "\n",
       "    .dataframe tbody tr th {\n",
       "        vertical-align: top;\n",
       "    }\n",
       "\n",
       "    .dataframe thead th {\n",
       "        text-align: right;\n",
       "    }\n",
       "</style>\n",
       "<table border=\"1\" class=\"dataframe\">\n",
       "  <thead>\n",
       "    <tr style=\"text-align: right;\">\n",
       "      <th></th>\n",
       "      <th>Sequence</th>\n",
       "      <th>Length</th>\n",
       "    </tr>\n",
       "    <tr>\n",
       "      <th>0</th>\n",
       "      <th></th>\n",
       "      <th></th>\n",
       "    </tr>\n",
       "  </thead>\n",
       "  <tbody>\n",
       "    <tr>\n",
       "      <th>P39937</th>\n",
       "      <td>MTYEIGDRLKIGGYFCTIKFIGVIKPWPSVKAYGVEWDDHSRGKHS...</td>\n",
       "      <td>518</td>\n",
       "    </tr>\n",
       "    <tr>\n",
       "      <th>P38764</th>\n",
       "      <td>MVDESDKKQQTIDEQSQISPEKQTPNKKDKKKEEEEQLSEEDAKLK...</td>\n",
       "      <td>993</td>\n",
       "    </tr>\n",
       "    <tr>\n",
       "      <th>P53127</th>\n",
       "      <td>MPKEEDFQLPRRREAAKNVNYNEMEIDTKLVQQIQIAEKSGAKTKG...</td>\n",
       "      <td>1403</td>\n",
       "    </tr>\n",
       "    <tr>\n",
       "      <th>Q03214</th>\n",
       "      <td>MSGHDSVTKISHILNEPVNEKVMVQNGFHESSKIADIELEIQERPS...</td>\n",
       "      <td>1411</td>\n",
       "    </tr>\n",
       "    <tr>\n",
       "      <th>P36132</th>\n",
       "      <td>MVNLNTIPPKNGRDYYIALGLEGSANKLGVGIVKHPLLPKHANSDL...</td>\n",
       "      <td>386</td>\n",
       "    </tr>\n",
       "    <tr>\n",
       "      <th>...</th>\n",
       "      <td>...</td>\n",
       "      <td>...</td>\n",
       "    </tr>\n",
       "    <tr>\n",
       "      <th>Q12404</th>\n",
       "      <td>MLFLNIIKLLLGLFIMNEVKAQNFYDSDPHISELTPKSFDKAIHNT...</td>\n",
       "      <td>318</td>\n",
       "    </tr>\n",
       "    <tr>\n",
       "      <th>Q06116</th>\n",
       "      <td>MSMLPWSQIRDVSKLLLGFMLFIISIQKIASILMSWILMLRHSTIR...</td>\n",
       "      <td>2489</td>\n",
       "    </tr>\n",
       "    <tr>\n",
       "      <th>Q04409</th>\n",
       "      <td>MSFENLHKVNAEALEDAVVEICSSLQVDAAKLDELTAYFIECMEKG...</td>\n",
       "      <td>500</td>\n",
       "    </tr>\n",
       "    <tr>\n",
       "      <th>P54783</th>\n",
       "      <td>MSTIPFRKNYVFKNWAGIYSAKPERYFQPSSIDEVVELVKSARLAE...</td>\n",
       "      <td>526</td>\n",
       "    </tr>\n",
       "    <tr>\n",
       "      <th>P25616</th>\n",
       "      <td>MKTIIISDFDETITRVDTICTIAKLPYLLNPRLKPEWGHFTKTYMD...</td>\n",
       "      <td>317</td>\n",
       "    </tr>\n",
       "  </tbody>\n",
       "</table>\n",
       "<p>3660 rows × 2 columns</p>\n",
       "</div>"
      ],
      "text/plain": [
       "                                                 Sequence  Length\n",
       "0                                                                \n",
       "P39937  MTYEIGDRLKIGGYFCTIKFIGVIKPWPSVKAYGVEWDDHSRGKHS...     518\n",
       "P38764  MVDESDKKQQTIDEQSQISPEKQTPNKKDKKKEEEEQLSEEDAKLK...     993\n",
       "P53127  MPKEEDFQLPRRREAAKNVNYNEMEIDTKLVQQIQIAEKSGAKTKG...    1403\n",
       "Q03214  MSGHDSVTKISHILNEPVNEKVMVQNGFHESSKIADIELEIQERPS...    1411\n",
       "P36132  MVNLNTIPPKNGRDYYIALGLEGSANKLGVGIVKHPLLPKHANSDL...     386\n",
       "...                                                   ...     ...\n",
       "Q12404  MLFLNIIKLLLGLFIMNEVKAQNFYDSDPHISELTPKSFDKAIHNT...     318\n",
       "Q06116  MSMLPWSQIRDVSKLLLGFMLFIISIQKIASILMSWILMLRHSTIR...    2489\n",
       "Q04409  MSFENLHKVNAEALEDAVVEICSSLQVDAAKLDELTAYFIECMEKG...     500\n",
       "P54783  MSTIPFRKNYVFKNWAGIYSAKPERYFQPSSIDEVVELVKSARLAE...     526\n",
       "P25616  MKTIIISDFDETITRVDTICTIAKLPYLLNPRLKPEWGHFTKTYMD...     317\n",
       "\n",
       "[3660 rows x 2 columns]"
      ]
     },
     "execution_count": 52,
     "metadata": {},
     "output_type": "execute_result"
    }
   ],
   "source": [
    "new_df_ps = pd.DataFrame(index = protein_sequence_CD[0].iloc[::2].map(lambda x: str(x)[2:]))\n",
    "new_df_ps['Sequence'] = protein_sequence_CD[0].iloc[1::2].to_numpy()\n",
    "new_df_ps['Length'] = new_df_ps['Sequence'].map(lambda x: len(x))\n",
    "new_df_ps\n",
    "# protein_sequence_CD[0].iloc[1::2]"
   ]
  },
  {
   "cell_type": "markdown",
   "metadata": {},
   "source": [
    "Generate site masks"
   ]
  },
  {
   "cell_type": "code",
   "execution_count": 53,
   "metadata": {},
   "outputs": [
    {
     "name": "stdout",
     "output_type": "stream",
     "text": [
      "Generating site masks\n"
     ]
    },
    {
     "name": "stderr",
     "output_type": "stream",
     "text": [
      "C:\\Users\\thoma\\miniconda3\\envs\\capstone\\lib\\site-packages\\numpy\\core\\_asarray.py:83: VisibleDeprecationWarning: Creating an ndarray from ragged nested sequences (which is a list-or-tuple of lists-or-tuples-or ndarrays with different lengths or shapes) is deprecated. If you meant to do this, you must specify 'dtype=object' when creating the ndarray\n",
      "  return array(a, dtype, copy=False, order=order)\n"
     ]
    }
   ],
   "source": [
    "site_masks = []\n",
    "print(\"Generating site masks\")\n",
    "for UA, UB, DA, DB, PA, PB in zip(Uniprot_id_A, Uniprot_id_B, domain_pfam_a, domain_pfam_b, positions_a, positions_b):\n",
    "    interaction_area = 0\n",
    "    try:\n",
    "        lengths = (new_df_ps['Length'].loc[UA], new_df_ps['Length'].loc[UB])\n",
    "        \n",
    "        # filter for smaller interaction areas - we don't want to do the whole protein\n",
    "        if interaction_area <= max_interaction_area * lengths[0]*lengths[1]:\n",
    "            # initialize mask with dimensions of protein sequence\n",
    "            mask = np.zeros(lengths, dtype=int)\n",
    "            \n",
    "            for pos_A, pos_B in zip(PA, PB):\n",
    "                \n",
    "                # calculate area of interaction\n",
    "                interaction_area += (pos_A[1]-pos_A[0])*(pos_B[1]-pos_B[0])\n",
    "                # set area of interaction to 1\n",
    "                mask[(pos_A[0]-1):(pos_A[1]-1), (pos_B[0]-1):(pos_B[1]-1)] = 1 # -1 as protein indexing starts by 1\n",
    "        \n",
    "            site_masks.append(mask)\n",
    "        else:\n",
    "            site_masks.append(np.NaN)\n",
    "    except KeyError as inst:\n",
    "        print(UA, UB)\n",
    "        print(f\"No uniprot entry found for protein {inst.args}\")\n",
    "        site_masks.append(np.NaN)\n",
    "        \n",
    "site_masks = np.asarray(site_masks)"
   ]
  },
  {
   "cell_type": "code",
   "execution_count": 54,
   "metadata": {},
   "outputs": [
    {
     "name": "stdout",
     "output_type": "stream",
     "text": [
      "Created 1606 domain masks with area <= 50.0 % \n"
     ]
    }
   ],
   "source": [
    "# Turn back into pandas dataframe\n",
    "masks_domainsOnly = pd.DataFrame({'Uniprot ID A': Uniprot_id_A,\n",
    "                                            'Uniprot ID B': Uniprot_id_B,\n",
    "                                            'Domain_id_a': domain_pfam_a,\n",
    "                                            'Domain_id_b': domain_pfam_b,\n",
    "                                            'Domain positions A': positions_a,\n",
    "                                            'Domain positions B': positions_b,\n",
    "                                            'Sites Masks': site_masks})\n",
    "# drop all masks for proteins we could not find/area was > 50%\n",
    "masks_domainsOnly.dropna(inplace=True)\n",
    "masks_domainsOnly.reset_index(drop=True, inplace=True)\n",
    "\n",
    "print(f\"Created {masks_domainsOnly.shape[0]} domain masks with area <= {max_interaction_area*100} % \")"
   ]
  },
  {
   "cell_type": "code",
   "execution_count": 55,
   "metadata": {},
   "outputs": [],
   "source": [
    "masks_domainsOnly.to_pickle(save_file_path)"
   ]
  },
  {
   "cell_type": "code",
   "execution_count": null,
   "metadata": {},
   "outputs": [],
   "source": []
  }
 ],
 "metadata": {
  "kernelspec": {
   "display_name": "Python 3",
   "language": "python",
   "name": "python3"
  },
  "language_info": {
   "codemirror_mode": {
    "name": "ipython",
    "version": 3
   },
   "file_extension": ".py",
   "mimetype": "text/x-python",
   "name": "python",
   "nbconvert_exporter": "python",
   "pygments_lexer": "ipython3",
   "version": "3.8.5"
  }
 },
 "nbformat": 4,
 "nbformat_minor": 4
}
