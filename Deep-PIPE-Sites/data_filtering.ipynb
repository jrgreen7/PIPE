{
 "cells": [
  {
   "cell_type": "markdown",
   "metadata": {},
   "source": [
    "## Data Filtering "
   ]
  },
  {
   "cell_type": "code",
   "execution_count": 1,
   "metadata": {},
   "outputs": [],
   "source": [
    "import pandas as pd\n",
    "import numpy as np\n",
    "import matplotlib.pyplot as plt\n",
    "import seaborn as sns"
   ]
  },
  {
   "cell_type": "code",
   "execution_count": 2,
   "metadata": {},
   "outputs": [
    {
     "name": "stderr",
     "output_type": "stream",
     "text": [
      "C:\\Users\\thoma\\miniconda3\\envs\\capstone\\lib\\site-packages\\IPython\\core\\interactiveshell.py:3146: DtypeWarning: Columns (1,2,18) have mixed types.Specify dtype option on import or set low_memory=False.\n",
      "  has_raised = await self.run_ast_nodes(code_ast.body, cell_name,\n"
     ]
    }
   ],
   "source": [
    "yeast_df = pd.read_csv(\"data/BIOGRID-ORGANISM-Saccharomyces_cerevisiae_S288c-4.2.191.tab3.txt\",\n",
    "                        sep = \"\\t\")"
   ]
  },
  {
   "cell_type": "code",
   "execution_count": 3,
   "metadata": {},
   "outputs": [
    {
     "data": {
      "text/plain": [
       "(756225, 37)"
      ]
     },
     "execution_count": 3,
     "metadata": {},
     "output_type": "execute_result"
    }
   ],
   "source": [
    "yeast_df.shape"
   ]
  },
  {
   "cell_type": "code",
   "execution_count": 4,
   "metadata": {},
   "outputs": [
    {
     "data": {
      "text/html": [
       "<div>\n",
       "<style scoped>\n",
       "    .dataframe tbody tr th:only-of-type {\n",
       "        vertical-align: middle;\n",
       "    }\n",
       "\n",
       "    .dataframe tbody tr th {\n",
       "        vertical-align: top;\n",
       "    }\n",
       "\n",
       "    .dataframe thead th {\n",
       "        text-align: right;\n",
       "    }\n",
       "</style>\n",
       "<table border=\"1\" class=\"dataframe\">\n",
       "  <thead>\n",
       "    <tr style=\"text-align: right;\">\n",
       "      <th></th>\n",
       "      <th>#BioGRID Interaction ID</th>\n",
       "      <th>Entrez Gene Interactor A</th>\n",
       "      <th>Entrez Gene Interactor B</th>\n",
       "      <th>BioGRID ID Interactor A</th>\n",
       "      <th>BioGRID ID Interactor B</th>\n",
       "      <th>Systematic Name Interactor A</th>\n",
       "      <th>Systematic Name Interactor B</th>\n",
       "      <th>Official Symbol Interactor A</th>\n",
       "      <th>Official Symbol Interactor B</th>\n",
       "      <th>Synonyms Interactor A</th>\n",
       "      <th>...</th>\n",
       "      <th>TREMBL Accessions Interactor B</th>\n",
       "      <th>REFSEQ Accessions Interactor B</th>\n",
       "      <th>Ontology Term IDs</th>\n",
       "      <th>Ontology Term Names</th>\n",
       "      <th>Ontology Term Categories</th>\n",
       "      <th>Ontology Term Qualifier IDs</th>\n",
       "      <th>Ontology Term Qualifier Names</th>\n",
       "      <th>Ontology Term Types</th>\n",
       "      <th>Organism Name Interactor A</th>\n",
       "      <th>Organism Name Interactor B</th>\n",
       "    </tr>\n",
       "  </thead>\n",
       "  <tbody>\n",
       "    <tr>\n",
       "      <th>0</th>\n",
       "      <td>68770</td>\n",
       "      <td>851136</td>\n",
       "      <td>854020</td>\n",
       "      <td>31676</td>\n",
       "      <td>34272</td>\n",
       "      <td>YLR418C</td>\n",
       "      <td>YOL145C</td>\n",
       "      <td>CDC73</td>\n",
       "      <td>CTR9</td>\n",
       "      <td>L000002792</td>\n",
       "      <td>...</td>\n",
       "      <td>-</td>\n",
       "      <td>NP_014496</td>\n",
       "      <td>-</td>\n",
       "      <td>-</td>\n",
       "      <td>-</td>\n",
       "      <td>-</td>\n",
       "      <td>-</td>\n",
       "      <td>-</td>\n",
       "      <td>Saccharomyces cerevisiae (S288c)</td>\n",
       "      <td>Saccharomyces cerevisiae (S288c)</td>\n",
       "    </tr>\n",
       "    <tr>\n",
       "      <th>1</th>\n",
       "      <td>68771</td>\n",
       "      <td>854020</td>\n",
       "      <td>851136</td>\n",
       "      <td>34272</td>\n",
       "      <td>31676</td>\n",
       "      <td>YOL145C</td>\n",
       "      <td>YLR418C</td>\n",
       "      <td>CTR9</td>\n",
       "      <td>CDC73</td>\n",
       "      <td>CDP1|L000003477</td>\n",
       "      <td>...</td>\n",
       "      <td>-</td>\n",
       "      <td>NP_013522</td>\n",
       "      <td>-</td>\n",
       "      <td>-</td>\n",
       "      <td>-</td>\n",
       "      <td>-</td>\n",
       "      <td>-</td>\n",
       "      <td>-</td>\n",
       "      <td>Saccharomyces cerevisiae (S288c)</td>\n",
       "      <td>Saccharomyces cerevisiae (S288c)</td>\n",
       "    </tr>\n",
       "    <tr>\n",
       "      <th>2</th>\n",
       "      <td>68774</td>\n",
       "      <td>851136</td>\n",
       "      <td>854290</td>\n",
       "      <td>31676</td>\n",
       "      <td>34518</td>\n",
       "      <td>YLR418C</td>\n",
       "      <td>YOR123C</td>\n",
       "      <td>CDC73</td>\n",
       "      <td>LEO1</td>\n",
       "      <td>L000002792</td>\n",
       "      <td>...</td>\n",
       "      <td>-</td>\n",
       "      <td>NP_014766</td>\n",
       "      <td>-</td>\n",
       "      <td>-</td>\n",
       "      <td>-</td>\n",
       "      <td>-</td>\n",
       "      <td>-</td>\n",
       "      <td>-</td>\n",
       "      <td>Saccharomyces cerevisiae (S288c)</td>\n",
       "      <td>Saccharomyces cerevisiae (S288c)</td>\n",
       "    </tr>\n",
       "    <tr>\n",
       "      <th>3</th>\n",
       "      <td>68775</td>\n",
       "      <td>854290</td>\n",
       "      <td>851136</td>\n",
       "      <td>34518</td>\n",
       "      <td>31676</td>\n",
       "      <td>YOR123C</td>\n",
       "      <td>YLR418C</td>\n",
       "      <td>LEO1</td>\n",
       "      <td>CDC73</td>\n",
       "      <td>L000000936</td>\n",
       "      <td>...</td>\n",
       "      <td>-</td>\n",
       "      <td>NP_013522</td>\n",
       "      <td>-</td>\n",
       "      <td>-</td>\n",
       "      <td>-</td>\n",
       "      <td>-</td>\n",
       "      <td>-</td>\n",
       "      <td>-</td>\n",
       "      <td>Saccharomyces cerevisiae (S288c)</td>\n",
       "      <td>Saccharomyces cerevisiae (S288c)</td>\n",
       "    </tr>\n",
       "    <tr>\n",
       "      <th>4</th>\n",
       "      <td>68778</td>\n",
       "      <td>851136</td>\n",
       "      <td>852582</td>\n",
       "      <td>31676</td>\n",
       "      <td>32973</td>\n",
       "      <td>YLR418C</td>\n",
       "      <td>YBR279W</td>\n",
       "      <td>CDC73</td>\n",
       "      <td>PAF1</td>\n",
       "      <td>L000002792</td>\n",
       "      <td>...</td>\n",
       "      <td>-</td>\n",
       "      <td>NP_009838</td>\n",
       "      <td>-</td>\n",
       "      <td>-</td>\n",
       "      <td>-</td>\n",
       "      <td>-</td>\n",
       "      <td>-</td>\n",
       "      <td>-</td>\n",
       "      <td>Saccharomyces cerevisiae (S288c)</td>\n",
       "      <td>Saccharomyces cerevisiae (S288c)</td>\n",
       "    </tr>\n",
       "  </tbody>\n",
       "</table>\n",
       "<p>5 rows × 37 columns</p>\n",
       "</div>"
      ],
      "text/plain": [
       "   #BioGRID Interaction ID Entrez Gene Interactor A Entrez Gene Interactor B  \\\n",
       "0                    68770                   851136                   854020   \n",
       "1                    68771                   854020                   851136   \n",
       "2                    68774                   851136                   854290   \n",
       "3                    68775                   854290                   851136   \n",
       "4                    68778                   851136                   852582   \n",
       "\n",
       "   BioGRID ID Interactor A  BioGRID ID Interactor B  \\\n",
       "0                    31676                    34272   \n",
       "1                    34272                    31676   \n",
       "2                    31676                    34518   \n",
       "3                    34518                    31676   \n",
       "4                    31676                    32973   \n",
       "\n",
       "  Systematic Name Interactor A Systematic Name Interactor B  \\\n",
       "0                      YLR418C                      YOL145C   \n",
       "1                      YOL145C                      YLR418C   \n",
       "2                      YLR418C                      YOR123C   \n",
       "3                      YOR123C                      YLR418C   \n",
       "4                      YLR418C                      YBR279W   \n",
       "\n",
       "  Official Symbol Interactor A Official Symbol Interactor B  \\\n",
       "0                        CDC73                         CTR9   \n",
       "1                         CTR9                        CDC73   \n",
       "2                        CDC73                         LEO1   \n",
       "3                         LEO1                        CDC73   \n",
       "4                        CDC73                         PAF1   \n",
       "\n",
       "  Synonyms Interactor A  ... TREMBL Accessions Interactor B  \\\n",
       "0            L000002792  ...                              -   \n",
       "1       CDP1|L000003477  ...                              -   \n",
       "2            L000002792  ...                              -   \n",
       "3            L000000936  ...                              -   \n",
       "4            L000002792  ...                              -   \n",
       "\n",
       "  REFSEQ Accessions Interactor B Ontology Term IDs Ontology Term Names  \\\n",
       "0                      NP_014496                 -                   -   \n",
       "1                      NP_013522                 -                   -   \n",
       "2                      NP_014766                 -                   -   \n",
       "3                      NP_013522                 -                   -   \n",
       "4                      NP_009838                 -                   -   \n",
       "\n",
       "  Ontology Term Categories  Ontology Term Qualifier IDs  \\\n",
       "0                        -                            -   \n",
       "1                        -                            -   \n",
       "2                        -                            -   \n",
       "3                        -                            -   \n",
       "4                        -                            -   \n",
       "\n",
       "   Ontology Term Qualifier Names Ontology Term Types  \\\n",
       "0                              -                   -   \n",
       "1                              -                   -   \n",
       "2                              -                   -   \n",
       "3                              -                   -   \n",
       "4                              -                   -   \n",
       "\n",
       "         Organism Name Interactor A        Organism Name Interactor B  \n",
       "0  Saccharomyces cerevisiae (S288c)  Saccharomyces cerevisiae (S288c)  \n",
       "1  Saccharomyces cerevisiae (S288c)  Saccharomyces cerevisiae (S288c)  \n",
       "2  Saccharomyces cerevisiae (S288c)  Saccharomyces cerevisiae (S288c)  \n",
       "3  Saccharomyces cerevisiae (S288c)  Saccharomyces cerevisiae (S288c)  \n",
       "4  Saccharomyces cerevisiae (S288c)  Saccharomyces cerevisiae (S288c)  \n",
       "\n",
       "[5 rows x 37 columns]"
      ]
     },
     "execution_count": 4,
     "metadata": {},
     "output_type": "execute_result"
    }
   ],
   "source": [
    "yeast_df.head()"
   ]
  },
  {
   "cell_type": "code",
   "execution_count": 5,
   "metadata": {},
   "outputs": [
    {
     "data": {
      "text/plain": [
       "Index(['#BioGRID Interaction ID', 'Entrez Gene Interactor A',\n",
       "       'Entrez Gene Interactor B', 'BioGRID ID Interactor A',\n",
       "       'BioGRID ID Interactor B', 'Systematic Name Interactor A',\n",
       "       'Systematic Name Interactor B', 'Official Symbol Interactor A',\n",
       "       'Official Symbol Interactor B', 'Synonyms Interactor A',\n",
       "       'Synonyms Interactor B', 'Experimental System',\n",
       "       'Experimental System Type', 'Author', 'Publication Source',\n",
       "       'Organism ID Interactor A', 'Organism ID Interactor B', 'Throughput',\n",
       "       'Score', 'Modification', 'Qualifications', 'Tags', 'Source Database',\n",
       "       'SWISS-PROT Accessions Interactor A', 'TREMBL Accessions Interactor A',\n",
       "       'REFSEQ Accessions Interactor A', 'SWISS-PROT Accessions Interactor B',\n",
       "       'TREMBL Accessions Interactor B', 'REFSEQ Accessions Interactor B',\n",
       "       'Ontology Term IDs', 'Ontology Term Names', 'Ontology Term Categories',\n",
       "       'Ontology Term Qualifier IDs', 'Ontology Term Qualifier Names',\n",
       "       'Ontology Term Types', 'Organism Name Interactor A',\n",
       "       'Organism Name Interactor B'],\n",
       "      dtype='object')"
      ]
     },
     "execution_count": 5,
     "metadata": {},
     "output_type": "execute_result"
    }
   ],
   "source": [
    "yeast_df.columns"
   ]
  },
  {
   "cell_type": "code",
   "execution_count": 6,
   "metadata": {},
   "outputs": [
    {
     "data": {
      "text/plain": [
       "#BioGRID Interaction ID                                          68770\n",
       "Entrez Gene Interactor A                                        851136\n",
       "Entrez Gene Interactor B                                        854020\n",
       "BioGRID ID Interactor A                                          31676\n",
       "BioGRID ID Interactor B                                          34272\n",
       "Systematic Name Interactor A                                   YLR418C\n",
       "Systematic Name Interactor B                                   YOL145C\n",
       "Official Symbol Interactor A                                     CDC73\n",
       "Official Symbol Interactor B                                      CTR9\n",
       "Synonyms Interactor A                                       L000002792\n",
       "Synonyms Interactor B                                  CDP1|L000003477\n",
       "Experimental System                                Affinity Capture-MS\n",
       "Experimental System Type                                      physical\n",
       "Author                                                Krogan NJ (2004)\n",
       "Publication Source                                     PUBMED:14759368\n",
       "Organism ID Interactor A                                        559292\n",
       "Organism ID Interactor B                                        559292\n",
       "Throughput                                             High Throughput\n",
       "Score                                                                -\n",
       "Modification                                                         -\n",
       "Qualifications                                                       -\n",
       "Tags                                                                 -\n",
       "Source Database                                                BIOGRID\n",
       "SWISS-PROT Accessions Interactor A                              Q06697\n",
       "TREMBL Accessions Interactor A                                       -\n",
       "REFSEQ Accessions Interactor A                               NP_013522\n",
       "SWISS-PROT Accessions Interactor B                              P89105\n",
       "TREMBL Accessions Interactor B                                       -\n",
       "REFSEQ Accessions Interactor B                               NP_014496\n",
       "Ontology Term IDs                                                    -\n",
       "Ontology Term Names                                                  -\n",
       "Ontology Term Categories                                             -\n",
       "Ontology Term Qualifier IDs                                          -\n",
       "Ontology Term Qualifier Names                                        -\n",
       "Ontology Term Types                                                  -\n",
       "Organism Name Interactor A            Saccharomyces cerevisiae (S288c)\n",
       "Organism Name Interactor B            Saccharomyces cerevisiae (S288c)\n",
       "Name: 0, dtype: object"
      ]
     },
     "execution_count": 6,
     "metadata": {},
     "output_type": "execute_result"
    }
   ],
   "source": [
    "yeast_df.iloc[0]"
   ]
  },
  {
   "cell_type": "code",
   "execution_count": 7,
   "metadata": {},
   "outputs": [],
   "source": [
    "yeast_df['SWISS-PROT Accessions Interactor A'] = yeast_df['SWISS-PROT Accessions Interactor A'].apply(lambda s: s.split('|'))\n",
    "yeast_df['SWISS-PROT Accessions Interactor B'] = yeast_df['SWISS-PROT Accessions Interactor B'].apply(lambda s: s.split('|'))\n",
    "yeast_df = yeast_df.explode('SWISS-PROT Accessions Interactor A', ignore_index=True).explode('SWISS-PROT Accessions Interactor B', ignore_index=True)"
   ]
  },
  {
   "cell_type": "code",
   "execution_count": 8,
   "metadata": {},
   "outputs": [
    {
     "data": {
      "text/plain": [
       "(769110, 37)"
      ]
     },
     "execution_count": 8,
     "metadata": {},
     "output_type": "execute_result"
    }
   ],
   "source": [
    "yeast_df.shape"
   ]
  },
  {
   "cell_type": "code",
   "execution_count": 9,
   "metadata": {},
   "outputs": [
    {
     "data": {
      "text/plain": [
       "(766596, 37)"
      ]
     },
     "execution_count": 9,
     "metadata": {},
     "output_type": "execute_result"
    }
   ],
   "source": [
    "yeast_df.drop(yeast_df[yeast_df['SWISS-PROT Accessions Interactor A'] == '-'].index, inplace=True)\n",
    "yeast_df.drop(yeast_df[yeast_df['SWISS-PROT Accessions Interactor B'] == '-'].index, inplace=True)\n",
    "yeast_df.shape"
   ]
  },
  {
   "cell_type": "code",
   "execution_count": 11,
   "metadata": {},
   "outputs": [],
   "source": [
    "#loading Convervative data from Positome"
   ]
  },
  {
   "cell_type": "code",
   "execution_count": 25,
   "metadata": {},
   "outputs": [],
   "source": [
    "yeast_cons_pp = pd.read_csv(\"data/conservative_data/protein_pairs_conservative.txt\",\n",
    "                        sep = \"\\t\", header=None)"
   ]
  },
  {
   "cell_type": "code",
   "execution_count": 26,
   "metadata": {},
   "outputs": [
    {
     "data": {
      "text/html": [
       "<div>\n",
       "<style scoped>\n",
       "    .dataframe tbody tr th:only-of-type {\n",
       "        vertical-align: middle;\n",
       "    }\n",
       "\n",
       "    .dataframe tbody tr th {\n",
       "        vertical-align: top;\n",
       "    }\n",
       "\n",
       "    .dataframe thead th {\n",
       "        text-align: right;\n",
       "    }\n",
       "</style>\n",
       "<table border=\"1\" class=\"dataframe\">\n",
       "  <thead>\n",
       "    <tr style=\"text-align: right;\">\n",
       "      <th></th>\n",
       "      <th>0</th>\n",
       "      <th>1</th>\n",
       "    </tr>\n",
       "  </thead>\n",
       "  <tbody>\n",
       "    <tr>\n",
       "      <th>0</th>\n",
       "      <td>P47112</td>\n",
       "      <td>P32833</td>\n",
       "    </tr>\n",
       "    <tr>\n",
       "      <th>1</th>\n",
       "      <td>P32585</td>\n",
       "      <td>P19659</td>\n",
       "    </tr>\n",
       "    <tr>\n",
       "      <th>2</th>\n",
       "      <td>P40013</td>\n",
       "      <td>P09733</td>\n",
       "    </tr>\n",
       "    <tr>\n",
       "      <th>3</th>\n",
       "      <td>P36122</td>\n",
       "      <td>Q12114</td>\n",
       "    </tr>\n",
       "    <tr>\n",
       "      <th>4</th>\n",
       "      <td>P36053</td>\n",
       "      <td>P19454</td>\n",
       "    </tr>\n",
       "  </tbody>\n",
       "</table>\n",
       "</div>"
      ],
      "text/plain": [
       "        0       1\n",
       "0  P47112  P32833\n",
       "1  P32585  P19659\n",
       "2  P40013  P09733\n",
       "3  P36122  Q12114\n",
       "4  P36053  P19454"
      ]
     },
     "execution_count": 26,
     "metadata": {},
     "output_type": "execute_result"
    }
   ],
   "source": [
    "yeast_cons_pp.head()"
   ]
  },
  {
   "cell_type": "code",
   "execution_count": 27,
   "metadata": {},
   "outputs": [],
   "source": [
    "yeast_cons_ps = pd.read_csv(\"data/conservative_data/protein_sequences_conservative.txt\",\n",
    "                        sep = \"\\t\", header=None)"
   ]
  },
  {
   "cell_type": "code",
   "execution_count": 28,
   "metadata": {},
   "outputs": [
    {
     "data": {
      "text/html": [
       "<div>\n",
       "<style scoped>\n",
       "    .dataframe tbody tr th:only-of-type {\n",
       "        vertical-align: middle;\n",
       "    }\n",
       "\n",
       "    .dataframe tbody tr th {\n",
       "        vertical-align: top;\n",
       "    }\n",
       "\n",
       "    .dataframe thead th {\n",
       "        text-align: right;\n",
       "    }\n",
       "</style>\n",
       "<table border=\"1\" class=\"dataframe\">\n",
       "  <thead>\n",
       "    <tr style=\"text-align: right;\">\n",
       "      <th></th>\n",
       "      <th>0</th>\n",
       "      <th>1</th>\n",
       "    </tr>\n",
       "  </thead>\n",
       "  <tbody>\n",
       "    <tr>\n",
       "      <th>0</th>\n",
       "      <td>P39937</td>\n",
       "      <td>MTYEIGDRLKIGGYFCTIKFIGVIKPWPSVKAYGVEWDDHSRGKHS...</td>\n",
       "    </tr>\n",
       "    <tr>\n",
       "      <th>1</th>\n",
       "      <td>P38764</td>\n",
       "      <td>MVDESDKKQQTIDEQSQISPEKQTPNKKDKKKEEEEQLSEEDAKLK...</td>\n",
       "    </tr>\n",
       "    <tr>\n",
       "      <th>2</th>\n",
       "      <td>P53127</td>\n",
       "      <td>MPKEEDFQLPRRREAAKNVNYNEMEIDTKLVQQIQIAEKSGAKTKG...</td>\n",
       "    </tr>\n",
       "    <tr>\n",
       "      <th>3</th>\n",
       "      <td>Q03214</td>\n",
       "      <td>MSGHDSVTKISHILNEPVNEKVMVQNGFHESSKIADIELEIQERPS...</td>\n",
       "    </tr>\n",
       "    <tr>\n",
       "      <th>4</th>\n",
       "      <td>P36132</td>\n",
       "      <td>MVNLNTIPPKNGRDYYIALGLEGSANKLGVGIVKHPLLPKHANSDL...</td>\n",
       "    </tr>\n",
       "  </tbody>\n",
       "</table>\n",
       "</div>"
      ],
      "text/plain": [
       "        0                                                  1\n",
       "0  P39937  MTYEIGDRLKIGGYFCTIKFIGVIKPWPSVKAYGVEWDDHSRGKHS...\n",
       "1  P38764  MVDESDKKQQTIDEQSQISPEKQTPNKKDKKKEEEEQLSEEDAKLK...\n",
       "2  P53127  MPKEEDFQLPRRREAAKNVNYNEMEIDTKLVQQIQIAEKSGAKTKG...\n",
       "3  Q03214  MSGHDSVTKISHILNEPVNEKVMVQNGFHESSKIADIELEIQERPS...\n",
       "4  P36132  MVNLNTIPPKNGRDYYIALGLEGSANKLGVGIVKHPLLPKHANSDL..."
      ]
     },
     "execution_count": 28,
     "metadata": {},
     "output_type": "execute_result"
    }
   ],
   "source": [
    "yeast_cons_ps.head()"
   ]
  },
  {
   "cell_type": "code",
   "execution_count": null,
   "metadata": {},
   "outputs": [],
   "source": []
  }
 ],
 "metadata": {
  "kernelspec": {
   "display_name": "Python 3",
   "language": "python",
   "name": "python3"
  },
  "language_info": {
   "codemirror_mode": {
    "name": "ipython",
    "version": 3
   },
   "file_extension": ".py",
   "mimetype": "text/x-python",
   "name": "python",
   "nbconvert_exporter": "python",
   "pygments_lexer": "ipython3",
   "version": "3.8.5"
  }
 },
 "nbformat": 4,
 "nbformat_minor": 4
}
